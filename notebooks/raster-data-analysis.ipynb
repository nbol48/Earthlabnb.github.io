{
 "cells": [
  {
   "cell_type": "code",
   "execution_count": 1,
   "metadata": {},
   "outputs": [
    {
     "ename": "ModuleNotFoundError",
     "evalue": "No module named 'earthpy.appeears'",
     "output_type": "error",
     "traceback": [
      "\u001b[0;31m---------------------------------------------------------------------------\u001b[0m",
      "\u001b[0;31mModuleNotFoundError\u001b[0m                       Traceback (most recent call last)",
      "\u001b[1;32m/workspaces/Earthlabnb.github.io/notebooks/raster-data-analysis.ipynb Cell 1\u001b[0m line \u001b[0;36m9\n\u001b[1;32m      <a href='vscode-notebook-cell://codespaces%2Bbookish-zebra-5gq57ppr95gjcv7gw/workspaces/Earthlabnb.github.io/notebooks/raster-data-analysis.ipynb#W0sdnNjb2RlLXJlbW90ZQ%3D%3D?line=5'>6</a>\u001b[0m \u001b[39mimport\u001b[39;00m \u001b[39mwarnings\u001b[39;00m\n\u001b[1;32m      <a href='vscode-notebook-cell://codespaces%2Bbookish-zebra-5gq57ppr95gjcv7gw/workspaces/Earthlabnb.github.io/notebooks/raster-data-analysis.ipynb#W0sdnNjb2RlLXJlbW90ZQ%3D%3D?line=6'>7</a>\u001b[0m \u001b[39mfrom\u001b[39;00m \u001b[39mglob\u001b[39;00m \u001b[39mimport\u001b[39;00m glob\n\u001b[0;32m----> <a href='vscode-notebook-cell://codespaces%2Bbookish-zebra-5gq57ppr95gjcv7gw/workspaces/Earthlabnb.github.io/notebooks/raster-data-analysis.ipynb#W0sdnNjb2RlLXJlbW90ZQ%3D%3D?line=8'>9</a>\u001b[0m \u001b[39mimport\u001b[39;00m \u001b[39mearthpy\u001b[39;00m\u001b[39m.\u001b[39;00m\u001b[39mappeears\u001b[39;00m \u001b[39mas\u001b[39;00m \u001b[39metapp\u001b[39;00m\n\u001b[1;32m     <a href='vscode-notebook-cell://codespaces%2Bbookish-zebra-5gq57ppr95gjcv7gw/workspaces/Earthlabnb.github.io/notebooks/raster-data-analysis.ipynb#W0sdnNjb2RlLXJlbW90ZQ%3D%3D?line=9'>10</a>\u001b[0m \u001b[39mimport\u001b[39;00m \u001b[39mfolium\u001b[39;00m\n\u001b[1;32m     <a href='vscode-notebook-cell://codespaces%2Bbookish-zebra-5gq57ppr95gjcv7gw/workspaces/Earthlabnb.github.io/notebooks/raster-data-analysis.ipynb#W0sdnNjb2RlLXJlbW90ZQ%3D%3D?line=10'>11</a>\u001b[0m \u001b[39mimport\u001b[39;00m \u001b[39mgeopandas\u001b[39;00m \u001b[39mas\u001b[39;00m \u001b[39mgpd\u001b[39;00m\n",
      "\u001b[0;31mModuleNotFoundError\u001b[0m: No module named 'earthpy.appeears'"
     ]
    }
   ],
   "source": [
    "# Importing the requisite libraries\n",
    "import logging\n",
    "import os\n",
    "import pathlib\n",
    "import subprocess\n",
    "import warnings\n",
    "from glob import glob\n",
    "\n",
    "import earthpy.appeears as etapp\n",
    "import folium\n",
    "import geopandas as gpd\n",
    "import hvplot.pandas\n",
    "import hvplot.xarray\n",
    "import pandas as pd\n",
    "import requests\n",
    "import rioxarray as rxr\n",
    "import xarray as xr\n",
    "\n",
    "# Set up logging so AppeearsDownloader will log in notebook\n",
    "logging.basicConfig(level=logging.INFO)\n",
    "\n",
    "# Ignore FutureWarning coming from hvplot\n",
    "warnings.simplefilter(action='ignore', category=FutureWarning)"
   ]
  },
  {
   "cell_type": "code",
   "execution_count": null,
   "metadata": {},
   "outputs": [],
   "source": [
    "# Creating path to the project directory\n",
    "project_dir = os.path.join(\n",
    "    pathlib.Path.home(), 'earth-analytics', 'data', 'fourmile-fire')\n",
    "\n",
    "# Creating the project directory\n",
    "os.makedirs(project_dir, exist_ok=True)\n",
    "project_dir"
   ]
  },
  {
   "cell_type": "code",
   "execution_count": null,
   "metadata": {},
   "outputs": [],
   "source": [
    "# Extract GeoDataFrame from the web link\n",
    "fourmile_gdf = gpd.read_file(\"https://services3.arcgis.com/T4QMspbfLg3qTGWY/\"\n",
    "                         \"arcgis/rest/services/Historic_Geomac_Perimeters\"\n",
    "                         \"_2018/FeatureServer/0/query?where=incidentname\"\n",
    "                         \"%20%3D%20'FOURMILE%20CANYON%20FIRE'%20AND%20&\"\n",
    "                         \"outFields=*&outSR=4326&f=json\")\n",
    "fourmile_gdf"
   ]
  },
  {
   "cell_type": "code",
   "execution_count": null,
   "metadata": {},
   "outputs": [],
   "source": [
    "# Loading the area base map\n",
    "fourmile_base_map = folium.Map(location=[40.0583331,-105.407165038], zoom_start=10)\n",
    "\n",
    "# Adding location marker for Paradise, CA\n",
    "folium.Marker(\n",
    "    [40.0583331,-105.407165038],\n",
    "    tooltip=\"Gold Hill, CO\"\n",
    ").add_to(fourmile_base_map)\n",
    "\n",
    "# Loading fire perimeter\n",
    "folium.GeoJson(\n",
    "    camp_gdf,\n",
    "    name='fire_perimeter_layer'\n",
    ").add_to(fourmile_base_map)\n",
    "\n",
    "fourmile_base_map"
   ]
  },
  {
   "cell_type": "code",
   "execution_count": null,
   "metadata": {},
   "outputs": [],
   "source": [
    "# Initialize AppeearsDownloader for MODIS NDVI data\n",
    "ndvi_downloader = etapp.AppeearsDownloader(\n",
    "    download_key='modis-ndvi',\n",
    "    ea_dir=project_dir,\n",
    "    product='MYD13Q1.061',\n",
    "    layer='_250m_16_days_NDVI',\n",
    "    start_date='06-01',\n",
    "    end_date='08-31',\n",
    "    recurring=True,\n",
    "    year_range=[2017, 2022],\n",
    "    polygon=camp_gdf\n",
    ")\n",
    "\n",
    "# Download files if the download directory does not exist\n",
    "if not os.path.exists(ndvi_downloader.data_dir):\n",
    "    ndvi_downloader.download_files()\n",
    "\n",
    "ndvi_downloader"
   ]
  },
  {
   "cell_type": "code",
   "execution_count": null,
   "metadata": {},
   "outputs": [],
   "source": [
    "# Loading .tif files in python\n",
    "ndvi_path_list = sorted(glob(os.path.join(\n",
    "    ndvi_downloader.data_dir, '*', '*NDVI*.tif'))\n",
    ")\n",
    "\n",
    "ndvi_path_list"
   ]
  },
  {
   "cell_type": "code",
   "execution_count": null,
   "metadata": {},
   "outputs": [],
   "source": [
    "doy_start = -19\n",
    "doy_end = -12\n",
    "scale_factor = 10000\n",
    "\n",
    "ndvi_das = []\n",
    "for ndvi_path in ndvi_path_list:\n",
    "    # Get date from file name\n",
    "    doy = ndvi_path[doy_start:doy_end]\n",
    "    date = pd.to_datetime(doy, format='%Y%j')\n",
    "\n",
    "    # Open dataset\n",
    "    da = rxr.open_rasterio(ndvi_path, masked=True).squeeze()\n",
    "\n",
    "    # Prepare to concatenate: Add date dimension and clean up metadata\n",
    "    da = da.assign_coords({'date': date})\n",
    "    da = da.expand_dims({'date': 1})\n",
    "    da.name = 'NDVI'\n",
    "\n",
    "    # Divide by scale factor\n",
    "    da = da / scale_factor\n",
    "\n",
    "    # Add the DataArray to the end of the accumulator list\n",
    "    ndvi_das.append(da)\n",
    "\n",
    "ndvi_das"
   ]
  },
  {
   "cell_type": "code",
   "execution_count": null,
   "metadata": {},
   "outputs": [],
   "source": [
    "# Creating Time Series by date\n",
    "ndvi_ds = xr.combine_by_coords(ndvi_das, coords=['date'])\n",
    "ndvi_ds"
   ]
  },
  {
   "cell_type": "code",
   "execution_count": null,
   "metadata": {},
   "outputs": [],
   "source": [
    "import matplotlib.pyplot as plt\n",
    "# Plotting change in NDVI over time\n",
    "dndvi_da = (ndvi_ds\n",
    "        .sel(date='2019',)\n",
    "        .mean('date')\n",
    "        .NDVI\n",
    "    - ndvi_ds\n",
    "        .sel(date='2017',)\n",
    "        .mean('date')\n",
    "        .NDVI\n",
    ")\n",
    "\n",
    "dndvi_da.plot(cmap=plt.colormaps['PiYG'])\n",
    "camp_gdf.plot(facecolor='none',  ax=plt.gca())\n",
    "\n",
    "plt.show()"
   ]
  },
  {
   "cell_type": "code",
   "execution_count": null,
   "metadata": {},
   "outputs": [],
   "source": [
    "# Compare the area in/out of fire boundary\n",
    "out_gdf = (\n",
    "    gpd.GeoDataFrame(geometry=camp_gdf.envelope)\n",
    "    .overlay(camp_gdf, how=\"difference\")\n",
    ")\n",
    "\n",
    "out_gdf"
   ]
  },
  {
   "cell_type": "code",
   "execution_count": null,
   "metadata": {},
   "outputs": [],
   "source": [
    "# Find the yearly mean NDVI inside and outside fire boundary\n",
    "inside_df = ndvi_fire_da.groupby('date.year').mean(...).NDVI.to_dataframe()\n",
    "\n",
    "outside_df = ndvi_out_da.groupby('date.year').mean(...).NDVI.to_dataframe()\n",
    "\n",
    "inside_df, outside_df"
   ]
  },
  {
   "cell_type": "code",
   "execution_count": null,
   "metadata": {},
   "outputs": [],
   "source": [
    "# Finding the difference in NVDI in/out of fire boundary over time\n",
    "ndvi_diff_df = outside_df.NDVI - inside_df.NDVI\n",
    "ndvi_diff_df\n",
    "\n",
    "# Plot showing NDVI Difference\n",
    "ndvi_diff_df.plot(\n",
    "    xlabel='year', ylabel='Difference in NDVI'\n",
    ")"
   ]
  }
 ],
 "metadata": {
  "kernelspec": {
   "display_name": "base",
   "language": "python",
   "name": "python3"
  },
  "language_info": {
   "codemirror_mode": {
    "name": "ipython",
    "version": 3
   },
   "file_extension": ".py",
   "mimetype": "text/x-python",
   "name": "python",
   "nbconvert_exporter": "python",
   "pygments_lexer": "ipython3",
   "version": "3.10.11"
  }
 },
 "nbformat": 4,
 "nbformat_minor": 2
}
