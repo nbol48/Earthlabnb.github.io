{
 "cells": [
  {
   "cell_type": "code",
   "execution_count": 13,
   "metadata": {},
   "outputs": [],
   "source": [
    "# Importing Pandas \n",
    "import warnings\n",
    "\n",
    "import hvplot.pandas\n",
    "import pandas as pd\n",
    "\n",
    "warnings.filterwarnings('ignore')\n"
   ]
  },
  {
   "cell_type": "code",
   "execution_count": 14,
   "metadata": {},
   "outputs": [],
   "source": [
    "billings_mean_temp_url = (\n",
    "    'https://www.ncei.noaa.gov/access/monitoring/climate-at-a-glance/city'\n",
    "    '/time-series/USW00024033/tavg/1/8/1945-2023.csv')\n",
    "\n",
    "# billings_mean_temp_url"
   ]
  },
  {
   "cell_type": "code",
   "execution_count": 15,
   "metadata": {},
   "outputs": [],
   "source": [
    "# List all current variables\n",
    "# %whos"
   ]
  },
  {
   "cell_type": "code",
   "execution_count": 16,
   "metadata": {},
   "outputs": [],
   "source": [
    "# Creating dataframe that includes the year and its average temp in LA\n",
    "billings_temp_df = pd.read_csv(billings_mean_temp_url, header=3,\n",
    "                         names=['year', 'avg_temp_f'])\n",
    "\n",
    "# billings_temp_df"
   ]
  },
  {
   "cell_type": "code",
   "execution_count": 17,
   "metadata": {},
   "outputs": [],
   "source": [
    "# Extract the year from the date\n",
    "billings_temp_df.year = pd.to_datetime(billings_temp_df.year, format='%Y%m').dt.year\n",
    "# billings_temp_df"
   ]
  },
  {
   "cell_type": "code",
   "execution_count": 18,
   "metadata": {},
   "outputs": [],
   "source": [
    "billings_temp_df['avg_temp_c'] = 5 / 9 * (billings_temp_df['avg_temp_f'] - 32)\n",
    "# billings_temp_df"
   ]
  },
  {
   "cell_type": "markdown",
   "metadata": {},
   "source": [
    " ## Visual representaion of annual temperature trends in Billings, MT."
   ]
  },
  {
   "cell_type": "code",
   "execution_count": 19,
   "metadata": {},
   "outputs": [
    {
     "data": {
      "text/plain": [
       "<hvplot.plotting.core.hvPlotTabular at 0x7fd40463a8c0>"
      ]
     },
     "execution_count": 19,
     "metadata": {},
     "output_type": "execute_result"
    }
   ],
   "source": [
    "# Plot Billings mean annual temperature 1945-2022\n",
    "billings_temp_df.hvplot(x='year', y='avg_temp_c',\n",
    "    title='Mean Annual Temperatures in Billings, MT USA',\n",
    "    ylabel= 'Temperature (C)',\n",
    "    xlabel= 'Year: 1948-2023')\n",
    "\n",
    "billings_temp_df.hvplot"
   ]
  },
  {
   "cell_type": "markdown",
   "metadata": {},
   "source": [
    "## Data Source\n",
    "The data shown in the plot is sourced from the \n",
    "National Centers for Environmental Information. (NOAA National Centers for Environmental information, Climate at a Glance: City Time Series, published September 2023, retrieved on September 18, 2023 from https://www.ncei.noaa.gov/access/monitoring/climate-at-a-glance/city/time-series)"
   ]
  },
  {
   "cell_type": "markdown",
   "metadata": {},
   "source": [
    "## Location Information\n",
    "Billings Montana is the largest municipality in the state, with a population\n",
    " of just over 117k. Located in south-central Montana, Billings was initially \n",
    " a railroad town. Today it is home to major companies and has continued to \n",
    " experience rapid growth."
   ]
  },
  {
   "cell_type": "code",
   "execution_count": 20,
   "metadata": {},
   "outputs": [],
   "source": [
    "%%capture\n",
    "%%bash\n",
    "jupyter nbconvert mean-temp-over-time-billings-mt.ipynb --to html --no-input"
   ]
  }
 ],
 "metadata": {
  "kernelspec": {
   "display_name": "base",
   "language": "python",
   "name": "python3"
  },
  "language_info": {
   "codemirror_mode": {
    "name": "ipython",
    "version": 3
   },
   "file_extension": ".py",
   "mimetype": "text/x-python",
   "name": "python",
   "nbconvert_exporter": "python",
   "pygments_lexer": "ipython3",
   "version": "3.10.11"
  },
  "orig_nbformat": 4
 },
 "nbformat": 4,
 "nbformat_minor": 2
}
